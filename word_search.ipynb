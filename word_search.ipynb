{
 "cells": [
  {
   "cell_type": "code",
   "execution_count": 1,
   "metadata": {},
   "outputs": [],
   "source": [
    "import pandas as pd"
   ]
  },
  {
   "cell_type": "code",
   "execution_count": 57,
   "metadata": {},
   "outputs": [
    {
     "data": {
      "text/plain": [
       "array(['Syrah', 'Chardonnay', 'Pinot Noir', 'Riesling', 'Sauvignon Blanc',\n",
       "       'Cabernet Sauvignon'], dtype=object)"
      ]
     },
     "execution_count": 57,
     "metadata": {},
     "output_type": "execute_result"
    }
   ],
   "source": [
    "reviews = pd.read_csv('predictions.csv')\n",
    "reviews.Actual.unique()"
   ]
  },
  {
   "cell_type": "code",
   "execution_count": 77,
   "metadata": {},
   "outputs": [
    {
     "name": "stdout",
     "output_type": "stream",
     "text": [
      "0.31836384439359267\n"
     ]
    }
   ],
   "source": [
    "# Filter for reviews of the variety\n",
    "char_filt = reviews.Actual == 'Chardonnay'\n",
    "char = reviews[char_filt]\n",
    "# Dataframe of reviews -> list of reviews\n",
    "char_reviews = char['Review'].values.tolist()\n",
    "# List of reviews that contain wine type\n",
    "char_chars = list()\n",
    "for i in char_reviews:\n",
    "    if 'chardonnay' in i:\n",
    "        char_chars.append(i)\n",
    "    elif 'chard' in i:\n",
    "        char_chars.append(i)\n",
    "# Making that list a df so .shape works\n",
    "char_reviews_pos = pd.DataFrame(char_chars)\n",
    "# divide # of reviews that contain wine type / total reviews in sample for wine type\n",
    "print(char_reviews_pos.shape[0]/char.shape[0])\n",
    "\n",
    "# 0.2808924485125858 (just 'chardonnay')\n",
    "# 0.31836384439359267 (all variations)"
   ]
  },
  {
   "cell_type": "code",
   "execution_count": 63,
   "metadata": {},
   "outputs": [
    {
     "name": "stdout",
     "output_type": "stream",
     "text": [
      "0.297700277988375\n"
     ]
    }
   ],
   "source": [
    "# Filter sample for reviews of the variety\n",
    "pn_filt = reviews.Actual == 'Pinot Noir'\n",
    "pn = reviews[pn_filt]\n",
    "# Dataframe of reviews -> list of reviews\n",
    "pn_reviews = pn['Review'].values.tolist()\n",
    "# List of reviews that contain wine type\n",
    "pn_pns = list()\n",
    "for i in pn_reviews:\n",
    "    if 'pinot noir' in i:\n",
    "        pn_pns.append(i)\n",
    "    elif 'pinot' in i:\n",
    "        pn_pns.append(i)\n",
    "    elif 'noir' in i:\n",
    "        pn_pns.append(i)\n",
    "# Making that list a df so .shape works\n",
    "pn_reviews_pos = pd.DataFrame(pn_pns)\n",
    "# divide # of reviews that contain wine type / total reviews in sample for wine type\n",
    "print(pn_reviews_pos.shape[0]/pn.shape[0])\n",
    "\n",
    "# 0.1753853929744756 (just 'pinot noir')\n",
    "# 0.297700277988375 (all variations)"
   ]
  },
  {
   "cell_type": "code",
   "execution_count": 59,
   "metadata": {},
   "outputs": [
    {
     "name": "stdout",
     "output_type": "stream",
     "text": [
      "0.3902751119641715\n"
     ]
    }
   ],
   "source": [
    "# Filter sample for reviews of the variety\n",
    "ri_filt = reviews.Actual == 'Riesling'\n",
    "ri = reviews[ri_filt]\n",
    "# Dataframe of reviews -> list of reviews\n",
    "ri_reviews = ri['Review'].values.tolist()\n",
    "# List of reviews that contain wine type\n",
    "ri_ris = list()\n",
    "for i in ri_reviews:\n",
    "    if 'riesling' in i:\n",
    "        ri_ris.append(i)\n",
    "# Making that list a df so .shape works\n",
    "ri_reviews_pos = pd.DataFrame(ri_ris)\n",
    "# divide # of reviews that contain wine type / total reviews in sample for wine type\n",
    "print(ri_reviews_pos.shape[0]/ri.shape[0])\n",
    "\n",
    "# 0.3902751119641715"
   ]
  },
  {
   "cell_type": "code",
   "execution_count": 60,
   "metadata": {},
   "outputs": [
    {
     "name": "stdout",
     "output_type": "stream",
     "text": [
      "0.4120922832140016\n"
     ]
    }
   ],
   "source": [
    "# Filter sample for reviews of the variety\n",
    "sy_filt = reviews.Actual == 'Syrah'\n",
    "sy = reviews[sy_filt]\n",
    "# Dataframe of reviews -> list of reviews\n",
    "sy_reviews = sy['Review'].values.tolist()\n",
    "# List of reviews that contain wine type\n",
    "sy_sys = list()\n",
    "for i in sy_reviews:\n",
    "    if 'syrah' in i:\n",
    "        sy_sys.append(i)\n",
    "# Making that list a df so .shape works\n",
    "sy_reviews_pos = pd.DataFrame(sy_sys)\n",
    "# divide # of reviews that contain wine type / total reviews in sample for wine type\n",
    "print(sy_reviews_pos.shape[0]/sy.shape[0])\n",
    "\n",
    "# 0.4120922832140016"
   ]
  },
  {
   "cell_type": "code",
   "execution_count": 66,
   "metadata": {},
   "outputs": [
    {
     "name": "stdout",
     "output_type": "stream",
     "text": [
      "0.25953177257525084\n"
     ]
    }
   ],
   "source": [
    "# Filter sample for reviews of the variety\n",
    "sb_filt = reviews.Actual == 'Sauvignon Blanc'\n",
    "sb = reviews[sb_filt]\n",
    "# Dataframe of reviews -> list of reviews\n",
    "sb_reviews = sb['Review'].values.tolist()\n",
    "# List of reviews that contain wine type\n",
    "sb_sbs = list()\n",
    "for i in sb_reviews:\n",
    "    if 'sauvignon blanc' in i:\n",
    "        sb_sbs.append(i)\n",
    "    elif 'sauvignon' in i:\n",
    "        sb_sbs.append(i)\n",
    "    elif 'blanc' in i:\n",
    "        sb_sbs.append(i)\n",
    "# Making that list a df so .shape works\n",
    "sb_reviews_pos = pd.DataFrame(sb_sbs)\n",
    "# divide # of reviews that contain wine type / total reviews in sample for wine type\n",
    "print(sb_reviews_pos.shape[0]/sb.shape[0])\n",
    "\n",
    "# 0.22675585284280936 (just 'sauvignon blanc')\n",
    "# 0.25953177257525084 (all variations)"
   ]
  },
  {
   "cell_type": "code",
   "execution_count": 70,
   "metadata": {},
   "outputs": [
    {
     "name": "stdout",
     "output_type": "stream",
     "text": [
      "0.40787182166492514\n"
     ]
    }
   ],
   "source": [
    "# Filter sample for reviews of the variety\n",
    "cs_filt = reviews.Actual == 'Cabernet Sauvignon'\n",
    "cs = reviews[cs_filt]\n",
    "# Dataframe of reviews -> list of reviews\n",
    "cs_reviews = cs['Review'].values.tolist()\n",
    "# List of reviews that contain wine type\n",
    "cs_css = list()\n",
    "for i in cs_reviews:\n",
    "    if 'cabernet sauvignon' in i:\n",
    "        cs_css.append(i)\n",
    "    elif 'cabernet' in i:\n",
    "        cs_css.append(i)\n",
    "    elif 'sauvignon' in i:\n",
    "        cs_css.append(i)\n",
    "    elif 'cab' in i:\n",
    "        cs_css.append(i)\n",
    "# Making that list a df so .shape works\n",
    "cs_reviews_pos = pd.DataFrame(cs_css)\n",
    "# divide # of reviews that contain wine type / total reviews in sample for wine type\n",
    "print(cs_reviews_pos.shape[0]/cs.shape[0])\n",
    "\n",
    "# 0.06687565308254964 (just 'cabernet sauvignon')\n",
    "# 0.40787182166492514 (all variations)"
   ]
  },
  {
   "cell_type": "code",
   "execution_count": null,
   "metadata": {},
   "outputs": [],
   "source": []
  }
 ],
 "metadata": {
  "kernelspec": {
   "display_name": "Python 3",
   "language": "python",
   "name": "python3"
  },
  "language_info": {
   "codemirror_mode": {
    "name": "ipython",
    "version": 3
   },
   "file_extension": ".py",
   "mimetype": "text/x-python",
   "name": "python",
   "nbconvert_exporter": "python",
   "pygments_lexer": "ipython3",
   "version": "3.7.3"
  }
 },
 "nbformat": 4,
 "nbformat_minor": 2
}
